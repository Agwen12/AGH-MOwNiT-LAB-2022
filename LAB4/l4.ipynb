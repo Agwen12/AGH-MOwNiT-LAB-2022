{
 "cells": [
  {
   "cell_type": "code",
   "execution_count": 8,
   "metadata": {
    "collapsed": true
   },
   "outputs": [],
   "source": [
    "import scipy.optimize as sci\n",
    "import numpy as np\n",
    "import numpy.random as npr\n",
    "import math"
   ]
  },
  {
   "cell_type": "code",
   "execution_count": 9,
   "outputs": [],
   "source": [
    "def generate_random_points(number: int):\n",
    "    return [[npr.uniform(-200, 200), npr.uniform(-200, 200), i] for i in range(number)]"
   ],
   "metadata": {
    "collapsed": false,
    "pycharm": {
     "name": "#%%\n"
    }
   }
  },
  {
   "cell_type": "code",
   "execution_count": 25,
   "outputs": [],
   "source": [
    "def func(x, points, f):\n",
    "    sumi = 0\n",
    "    l = len(points)\n",
    "    for i in range(len(x)):\n",
    "        sumi += math.sqrt((points[x[i]][0] - points[x[(i+1)%l]][0]) ** 2 + (points[x[i]][1] - points[x[(i + 1)%l]][1]) ** 2)\n",
    "    return sumi"
   ],
   "metadata": {
    "collapsed": false,
    "pycharm": {
     "name": "#%%\n"
    }
   }
  },
  {
   "cell_type": "code",
   "execution_count": 27,
   "outputs": [
    {
     "ename": "TypeError",
     "evalue": "list indices must be integers or slices, not numpy.float64",
     "output_type": "error",
     "traceback": [
      "\u001B[1;31m---------------------------------------------------------------------------\u001B[0m",
      "\u001B[1;31mTypeError\u001B[0m                                 Traceback (most recent call last)",
      "Input \u001B[1;32mIn [27]\u001B[0m, in \u001B[0;36m<cell line: 4>\u001B[1;34m()\u001B[0m\n\u001B[0;32m      2\u001B[0m up \u001B[38;5;241m=\u001B[39m [\u001B[38;5;241m19\u001B[39m] \u001B[38;5;241m*\u001B[39m \u001B[38;5;241m20\u001B[39m\n\u001B[0;32m      3\u001B[0m points \u001B[38;5;241m=\u001B[39m generate_random_points(\u001B[38;5;241m20\u001B[39m)\n\u001B[1;32m----> 4\u001B[0m ret \u001B[38;5;241m=\u001B[39m \u001B[43msci\u001B[49m\u001B[38;5;241;43m.\u001B[39;49m\u001B[43mdual_annealing\u001B[49m\u001B[43m(\u001B[49m\u001B[43mfunc\u001B[49m\u001B[43m,\u001B[49m\u001B[43m \u001B[49m\u001B[43mbounds\u001B[49m\u001B[38;5;241;43m=\u001B[39;49m\u001B[38;5;28;43mlist\u001B[39;49m\u001B[43m(\u001B[49m\u001B[38;5;28;43mzip\u001B[39;49m\u001B[43m(\u001B[49m\u001B[43mlw\u001B[49m\u001B[43m,\u001B[49m\u001B[43m \u001B[49m\u001B[43mup\u001B[49m\u001B[43m)\u001B[49m\u001B[43m)\u001B[49m\u001B[43m,\u001B[49m\u001B[43m \u001B[49m\u001B[43margs\u001B[49m\u001B[38;5;241;43m=\u001B[39;49m\u001B[43m(\u001B[49m\u001B[43mpoints\u001B[49m\u001B[43m,\u001B[49m\u001B[43m \u001B[49m\u001B[38;5;241;43m1\u001B[39;49m\u001B[43m)\u001B[49m\u001B[43m)\u001B[49m\n\u001B[0;32m      5\u001B[0m \u001B[38;5;28mprint\u001B[39m(ret\u001B[38;5;241m.\u001B[39mx)\n",
      "File \u001B[1;32mc:\\users\\user\\lib\\site-packages\\scipy\\optimize\\_dual_annealing.py:659\u001B[0m, in \u001B[0;36mdual_annealing\u001B[1;34m(func, bounds, args, maxiter, minimizer_kwargs, initial_temp, restart_temp_ratio, visit, accept, maxfun, seed, no_local_search, callback, x0, local_search_options)\u001B[0m\n\u001B[0;32m    657\u001B[0m \u001B[38;5;66;03m# Initialization of the energy state\u001B[39;00m\n\u001B[0;32m    658\u001B[0m energy_state \u001B[38;5;241m=\u001B[39m EnergyState(lower, upper, callback)\n\u001B[1;32m--> 659\u001B[0m \u001B[43menergy_state\u001B[49m\u001B[38;5;241;43m.\u001B[39;49m\u001B[43mreset\u001B[49m\u001B[43m(\u001B[49m\u001B[43mfunc_wrapper\u001B[49m\u001B[43m,\u001B[49m\u001B[43m \u001B[49m\u001B[43mrand_state\u001B[49m\u001B[43m,\u001B[49m\u001B[43m \u001B[49m\u001B[43mx0\u001B[49m\u001B[43m)\u001B[49m\n\u001B[0;32m    660\u001B[0m \u001B[38;5;66;03m# Minimum value of annealing temperature reached to perform\u001B[39;00m\n\u001B[0;32m    661\u001B[0m \u001B[38;5;66;03m# re-annealing\u001B[39;00m\n\u001B[0;32m    662\u001B[0m temperature_restart \u001B[38;5;241m=\u001B[39m initial_temp \u001B[38;5;241m*\u001B[39m restart_temp_ratio\n",
      "File \u001B[1;32mc:\\users\\user\\lib\\site-packages\\scipy\\optimize\\_dual_annealing.py:174\u001B[0m, in \u001B[0;36mEnergyState.reset\u001B[1;34m(self, func_wrapper, rand_gen, x0)\u001B[0m\n\u001B[0;32m    172\u001B[0m reinit_counter \u001B[38;5;241m=\u001B[39m \u001B[38;5;241m0\u001B[39m\n\u001B[0;32m    173\u001B[0m \u001B[38;5;28;01mwhile\u001B[39;00m init_error:\n\u001B[1;32m--> 174\u001B[0m     \u001B[38;5;28mself\u001B[39m\u001B[38;5;241m.\u001B[39mcurrent_energy \u001B[38;5;241m=\u001B[39m \u001B[43mfunc_wrapper\u001B[49m\u001B[38;5;241;43m.\u001B[39;49m\u001B[43mfun\u001B[49m\u001B[43m(\u001B[49m\u001B[38;5;28;43mself\u001B[39;49m\u001B[38;5;241;43m.\u001B[39;49m\u001B[43mcurrent_location\u001B[49m\u001B[43m)\u001B[49m\n\u001B[0;32m    175\u001B[0m     \u001B[38;5;28;01mif\u001B[39;00m \u001B[38;5;28mself\u001B[39m\u001B[38;5;241m.\u001B[39mcurrent_energy \u001B[38;5;129;01mis\u001B[39;00m \u001B[38;5;28;01mNone\u001B[39;00m:\n\u001B[0;32m    176\u001B[0m         \u001B[38;5;28;01mraise\u001B[39;00m \u001B[38;5;167;01mValueError\u001B[39;00m(\u001B[38;5;124m'\u001B[39m\u001B[38;5;124mObjective function is returning None\u001B[39m\u001B[38;5;124m'\u001B[39m)\n",
      "File \u001B[1;32mc:\\users\\user\\lib\\site-packages\\scipy\\optimize\\_dual_annealing.py:382\u001B[0m, in \u001B[0;36mObjectiveFunWrapper.fun\u001B[1;34m(self, x)\u001B[0m\n\u001B[0;32m    380\u001B[0m \u001B[38;5;28;01mdef\u001B[39;00m \u001B[38;5;21mfun\u001B[39m(\u001B[38;5;28mself\u001B[39m, x):\n\u001B[0;32m    381\u001B[0m     \u001B[38;5;28mself\u001B[39m\u001B[38;5;241m.\u001B[39mnfev \u001B[38;5;241m+\u001B[39m\u001B[38;5;241m=\u001B[39m \u001B[38;5;241m1\u001B[39m\n\u001B[1;32m--> 382\u001B[0m     \u001B[38;5;28;01mreturn\u001B[39;00m \u001B[38;5;28;43mself\u001B[39;49m\u001B[38;5;241;43m.\u001B[39;49m\u001B[43mfunc\u001B[49m\u001B[43m(\u001B[49m\u001B[43mx\u001B[49m\u001B[43m,\u001B[49m\u001B[43m \u001B[49m\u001B[38;5;241;43m*\u001B[39;49m\u001B[38;5;28;43mself\u001B[39;49m\u001B[38;5;241;43m.\u001B[39;49m\u001B[43margs\u001B[49m\u001B[43m)\u001B[49m\n",
      "Input \u001B[1;32mIn [25]\u001B[0m, in \u001B[0;36mfunc\u001B[1;34m(x, points, f)\u001B[0m\n\u001B[0;32m      3\u001B[0m l \u001B[38;5;241m=\u001B[39m \u001B[38;5;28mlen\u001B[39m(points)\n\u001B[0;32m      4\u001B[0m \u001B[38;5;28;01mfor\u001B[39;00m i \u001B[38;5;129;01min\u001B[39;00m \u001B[38;5;28mrange\u001B[39m(\u001B[38;5;28mlen\u001B[39m(x)):\n\u001B[1;32m----> 5\u001B[0m     sumi \u001B[38;5;241m+\u001B[39m\u001B[38;5;241m=\u001B[39m math\u001B[38;5;241m.\u001B[39msqrt((\u001B[43mpoints\u001B[49m\u001B[43m[\u001B[49m\u001B[43mx\u001B[49m\u001B[43m[\u001B[49m\u001B[43mi\u001B[49m\u001B[43m]\u001B[49m\u001B[43m]\u001B[49m[\u001B[38;5;241m0\u001B[39m] \u001B[38;5;241m-\u001B[39m points[x[(i\u001B[38;5;241m+\u001B[39m\u001B[38;5;241m1\u001B[39m)\u001B[38;5;241m%\u001B[39ml]][\u001B[38;5;241m0\u001B[39m]) \u001B[38;5;241m*\u001B[39m\u001B[38;5;241m*\u001B[39m \u001B[38;5;241m2\u001B[39m \u001B[38;5;241m+\u001B[39m (points[x[i]][\u001B[38;5;241m1\u001B[39m] \u001B[38;5;241m-\u001B[39m points[x[(i \u001B[38;5;241m+\u001B[39m \u001B[38;5;241m1\u001B[39m)\u001B[38;5;241m%\u001B[39ml]][\u001B[38;5;241m1\u001B[39m]) \u001B[38;5;241m*\u001B[39m\u001B[38;5;241m*\u001B[39m \u001B[38;5;241m2\u001B[39m)\n\u001B[0;32m      6\u001B[0m \u001B[38;5;28;01mreturn\u001B[39;00m sumi\n",
      "\u001B[1;31mTypeError\u001B[0m: list indices must be integers or slices, not numpy.float64"
     ]
    }
   ],
   "source": [
    "lw = [0] * 20\n",
    "up = [1] * 20\n",
    "points = generate_random_points(20)\n",
    "ret = sci.dual_annealing(func, bounds=list(zip(lw, up)), args=(points, 1))\n",
    "print(ret.x)"
   ],
   "metadata": {
    "collapsed": false,
    "pycharm": {
     "name": "#%%\n"
    }
   }
  },
  {
   "cell_type": "code",
   "execution_count": null,
   "outputs": [],
   "source": [],
   "metadata": {
    "collapsed": false,
    "pycharm": {
     "name": "#%%\n"
    }
   }
  }
 ],
 "metadata": {
  "kernelspec": {
   "display_name": "Python 3",
   "language": "python",
   "name": "python3"
  },
  "language_info": {
   "codemirror_mode": {
    "name": "ipython",
    "version": 2
   },
   "file_extension": ".py",
   "mimetype": "text/x-python",
   "name": "python",
   "nbconvert_exporter": "python",
   "pygments_lexer": "ipython2",
   "version": "2.7.6"
  }
 },
 "nbformat": 4,
 "nbformat_minor": 0
}