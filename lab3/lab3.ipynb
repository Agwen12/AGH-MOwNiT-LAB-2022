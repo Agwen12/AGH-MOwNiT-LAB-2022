{
 "cells": [
  {
   "cell_type": "code",
   "execution_count": 67,
   "metadata": {
    "collapsed": true
   },
   "outputs": [],
   "source": [
    "import numpy as np\n",
    "import numpy.typing as npt\n",
    "import math"
   ]
  },
  {
   "cell_type": "code",
   "execution_count": 75,
   "outputs": [],
   "source": [
    "def f1(x):\n",
    "    return np.cosh(x)*np.cos(x) - 1\n",
    "\n",
    "def f2(x):\n",
    "    return 1/x - np.tan(x)\n",
    "\n",
    "def f3(x):\n",
    "    return math.pow(2, -x) + math.pow(np.e,x) + 2*np.cos(x) - 6"
   ],
   "metadata": {
    "collapsed": false,
    "pycharm": {
     "name": "#%%\n"
    }
   }
  },
  {
   "cell_type": "code",
   "execution_count": 116,
   "outputs": [],
   "source": [
    "def bisection(func, a, b, N):\n",
    "    epsilon = 1e-12\n",
    "    if np.sign(func(a)) == np.sign(func(b)):\n",
    "        print(\"zły zakres\")\n",
    "        return None\n",
    "\n",
    "    a_n = a\n",
    "    b_n = b\n",
    "    for n in range(1, N + 1):\n",
    "        c_n = a_n + (b_n - a_n)/2\n",
    "        if np.sign(func(a_n)) != np.sign(func(c_n)):\n",
    "            b_n = c_n\n",
    "        elif np.sign(func(c_n)) != np.sign(func(b_n)):\n",
    "            a_n = c_n\n",
    "        if abs(func(c_n)) < epsilon and abs(b_n - a_n) < epsilon:\n",
    "            return c_n"
   ],
   "metadata": {
    "collapsed": false,
    "pycharm": {
     "name": "#%%\n"
    }
   }
  },
  {
   "cell_type": "code",
   "execution_count": 117,
   "outputs": [
    {
     "name": "stdout",
     "output_type": "stream",
     "text": [
      "44\n",
      "x0= 4.730040744862693  f(x0)= -6.297184995673888e-13\n"
     ]
    }
   ],
   "source": [
    "x0 = bisection(f1, (1.5) * np.pi, 2*np.pi, 10**5)\n",
    "print(\"x0=\", x0, \" f(x0)=\",f1(x0))"
   ],
   "metadata": {
    "collapsed": false,
    "pycharm": {
     "name": "#%%\n"
    }
   }
  },
  {
   "cell_type": "code",
   "execution_count": 118,
   "outputs": [
    {
     "name": "stdout",
     "output_type": "stream",
     "text": [
      "41\n",
      "x0= 0.8603335890194235  f(x0)= -1.6187051699034782e-13\n"
     ]
    }
   ],
   "source": [
    "x0 = bisection(f2, 1e-20, np.pi/2, 10*7)\n",
    "print(\"x0=\", x0, \" f(x0)=\",f2(x0))"
   ],
   "metadata": {
    "collapsed": false,
    "pycharm": {
     "name": "#%%\n"
    }
   }
  },
  {
   "cell_type": "code",
   "execution_count": 119,
   "outputs": [
    {
     "name": "stdout",
     "output_type": "stream",
     "text": [
      "41\n",
      "x0= 1.8293836019338414  f(x0)= -3.108624468950438e-14\n"
     ]
    }
   ],
   "source": [
    "x0 = bisection(f3, 1, 3, 10*7)\n",
    "print(\"x0=\", x0, \" f(x0)=\", f3(x0))"
   ],
   "metadata": {
    "collapsed": false,
    "pycharm": {
     "name": "#%%\n"
    }
   }
  },
  {
   "cell_type": "code",
   "execution_count": 94,
   "outputs": [],
   "source": [
    "def df1_dx(x):\n",
    "    return np.sinh(x)*np.cos(x) - np.cosh(x)*np.sin(x)"
   ],
   "metadata": {
    "collapsed": false,
    "pycharm": {
     "name": "#%%\n"
    }
   }
  },
  {
   "cell_type": "code",
   "execution_count": 95,
   "outputs": [],
   "source": [
    "def tangests(func, a, b, N):\n",
    "    epsilon = 1e-9\n",
    "    x_n = b\n",
    "    for n in range(1, N + 1):\n",
    "        if abs(func(x_n)) < epsilon:\n",
    "            print(n)\n",
    "            return x_n\n",
    "        x_n -= func(x_n) / df1_dx(x_n)"
   ],
   "metadata": {
    "collapsed": false,
    "pycharm": {
     "name": "#%%\n"
    }
   }
  },
  {
   "cell_type": "code",
   "execution_count": 96,
   "outputs": [
    {
     "name": "stdout",
     "output_type": "stream",
     "text": [
      "7\n",
      "x0= 4.730040744862776  f(x0)= 4.1318060084449826e-12\n"
     ]
    }
   ],
   "source": [
    "x0 = tangests(f1, (3/2) * np.pi, 2*np.pi, 10**5)\n",
    "print(\"x0=\", x0, \" f(x0)=\",f1(x0))"
   ],
   "metadata": {
    "collapsed": false,
    "pycharm": {
     "name": "#%%\n"
    }
   }
  },
  {
   "cell_type": "code",
   "execution_count": 99,
   "outputs": [],
   "source": [
    "def sieczna(func, a, b, N):\n",
    "    epsilon = 1e-9\n",
    "    x0 = a\n",
    "    x1 = (b + a)/2\n",
    "    for n in range(1, N + 1):\n",
    "        if abs(x1) < epsilon or x0 - x1 == 0:\n",
    "            return x1\n",
    "\n",
    "        dfunc = (func(x1) - func(x0)) / (x1 - x0)\n",
    "        x1, x0 = x1 - func(x1)/dfunc, x1"
   ],
   "metadata": {
    "collapsed": false,
    "pycharm": {
     "name": "#%%\n"
    }
   }
  },
  {
   "cell_type": "code",
   "execution_count": 100,
   "outputs": [
    {
     "name": "stdout",
     "output_type": "stream",
     "text": [
      "109.90843651638946 5.497787143782138 4.71238898038469\n",
      "110.53825323459628 4.721487463009824 5.497787143782138\n",
      "56.92950029430683 4.725910606156942 4.721487463009824\n",
      "57.41389839955251 4.730075743510468 4.725910606156942\n",
      "57.64749465403132 4.730040602461029 4.730075743510468\n",
      "57.64551241847169 4.730040744857807 4.730040602461029\n",
      "57.64554235443497 4.730040744862704 4.730040744857807\n",
      "8\n",
      "x0= 4.730040744862704  f(x0)= -1.5210055437364645e-14\n"
     ]
    }
   ],
   "source": [
    "x0 = sieczna(f3, (3/2) * np.pi, 2*np.pi, 10**4)\n",
    "print(\"x0=\", x0, \" f(x0)=\",f3(x0))"
   ],
   "metadata": {
    "collapsed": false,
    "pycharm": {
     "name": "#%%\n"
    }
   }
  },
  {
   "cell_type": "code",
   "execution_count": 121,
   "outputs": [
    {
     "name": "stdout",
     "output_type": "stream",
     "text": [
      "0.3333333333333333\n",
      "<class 'numpy.float64'>\n"
     ]
    }
   ],
   "source": [
    "print(1./3.)\n",
    "print(np.float64(1) / np.float64(3))"
   ],
   "metadata": {
    "collapsed": false,
    "pycharm": {
     "name": "#%%\n"
    }
   }
  },
  {
   "cell_type": "code",
   "execution_count": 122,
   "outputs": [
    {
     "data": {
      "text/plain": "3.141592653589793"
     },
     "execution_count": 122,
     "metadata": {},
     "output_type": "execute_result"
    }
   ],
   "source": [
    "np.pi"
   ],
   "metadata": {
    "collapsed": false,
    "pycharm": {
     "name": "#%%\n"
    }
   }
  },
  {
   "cell_type": "code",
   "execution_count": null,
   "outputs": [],
   "source": [],
   "metadata": {
    "collapsed": false,
    "pycharm": {
     "name": "#%%\n"
    }
   }
  }
 ],
 "metadata": {
  "kernelspec": {
   "display_name": "Python 3",
   "language": "python",
   "name": "python3"
  },
  "language_info": {
   "codemirror_mode": {
    "name": "ipython",
    "version": 2
   },
   "file_extension": ".py",
   "mimetype": "text/x-python",
   "name": "python",
   "nbconvert_exporter": "python",
   "pygments_lexer": "ipython2",
   "version": "2.7.6"
  }
 },
 "nbformat": 4,
 "nbformat_minor": 0
}